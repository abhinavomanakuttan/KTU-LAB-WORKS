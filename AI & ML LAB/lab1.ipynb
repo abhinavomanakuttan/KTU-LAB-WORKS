{
 "cells": [
  {
   "cell_type": "code",
   "execution_count": 14,
   "id": "e82a8310-7d44-4e49-b56a-d78ed07653fd",
   "metadata": {},
   "outputs": [
    {
     "name": "stdout",
     "output_type": "stream",
     "text": [
      "Name,Age,deptarmet\n",
      "Bob,20,Mechanical\n",
      "David,21,Civil\n",
      "Alice,22,Computer Science\n",
      "Eve,22,Electronics\n",
      "Charlie,23,Electrical\n",
      "\n",
      "Sorted data written to 'sorted_students.csv'\n"
     ]
    }
   ],
   "source": [
    "import csv\n",
    "\n",
    "# Step 1: Open and read the CSV file\n",
    "with open('students.csv', mode='r', newline='') as file:\n",
    "    reader = csv.DictReader(file)\n",
    "    rows = list(reader)\n",
    "    header = reader.fieldnames  # Store header separately\n",
    "\n",
    "# Step 2: Sort the rows by a specific column name\n",
    "sort_column = 'Age'  # Make sure this matches your CSV column name (case-sensitive)\n",
    "sorted_rows = sorted(rows, key=lambda x: int(x[sort_column]))\n",
    "\n",
    "# Step 3: Print the sorted rows\n",
    "print(','.join(header))  # Print header\n",
    "for row in sorted_rows:\n",
    "    print(','.join([row[col] for col in header]))\n",
    "\n",
    "# Step 4: Write the sorted data to a new CSV file\n",
    "with open('sorted_students.csv', mode='w', newline='') as file:\n",
    "    writer = csv.DictWriter(file, fieldnames=header)\n",
    "    writer.writeheader()\n",
    "    writer.writerows(sorted_rows)\n",
    "\n",
    "print(\"\\nSorted data written to 'sorted_students.csv'\")\n"
   ]
  },
  {
   "cell_type": "code",
   "execution_count": 10,
   "id": "e3d58be9-4a15-4c5b-8db3-62e774bb70da",
   "metadata": {},
   "outputs": [
    {
     "name": "stdout",
     "output_type": "stream",
     "text": [
      "Name,Age,deptarmet\n",
      "Alice,22,Computer Science\n",
      "Bob,20,Mechanical\n",
      "Charlie,23,Electrical\n",
      "David,21,Civil\n",
      "Eve,22,Electronics\n"
     ]
    }
   ],
   "source": [
    "import pandas as pd\n",
    "\n",
    "# Step 1: Read the CSV file into a DataFrame\n",
    "df = pd.read_csv('students.csv')\n",
    "\n",
    "# Step 2: Sort the DataFrame by a specific column\n",
    "sort_column = 'Name'  \n",
    "df_sorted = df.sort_values(by=sort_column)\n",
    "\n",
    "# Step 3: Print the sorted DataFrame as CSV format\n",
    "print(','.join(df.columns))  # Print header\n",
    "for _, row in df_sorted.iterrows():\n",
    "    print(','.join(map(str, row)))\n"
   ]
  },
  {
   "cell_type": "markdown",
   "id": "bf5e092f-21dd-481d-a3af-0cd7475062a4",
   "metadata": {},
   "source": [
    "## Aim  \n",
    " write python program for matrix opration "
   ]
  },
  {
   "cell_type": "code",
   "execution_count": 16,
   "id": "b8bec1ab-80fd-4ed5-9b65-0be10be724dd",
   "metadata": {},
   "outputs": [
    {
     "name": "stdin",
     "output_type": "stream",
     "text": [
      "Enter number of rows for Matrix A:  2\n",
      "Enter number of columns for Matrix A:  2\n"
     ]
    },
    {
     "name": "stdout",
     "output_type": "stream",
     "text": [
      "Enter elements for Matrix A row by row:\n"
     ]
    },
    {
     "name": "stdin",
     "output_type": "stream",
     "text": [
      "Row 1:  1 2\n",
      "Row 2:  5 4\n",
      "Enter number of rows for Matrix B:  2\n",
      "Enter number of columns for Matrix B:  2\n"
     ]
    },
    {
     "name": "stdout",
     "output_type": "stream",
     "text": [
      "Enter elements for Matrix B row by row:\n"
     ]
    },
    {
     "name": "stdin",
     "output_type": "stream",
     "text": [
      "Row 1:  5 6 \n",
      "Row 2:  4 8\n"
     ]
    },
    {
     "name": "stdout",
     "output_type": "stream",
     "text": [
      "\n",
      "Matrix A:\n",
      "1 2\n",
      "5 4\n",
      "\n",
      "Matrix B:\n",
      "5 6\n",
      "4 8\n",
      "\n",
      "Addition (A + B):\n",
      "6 8\n",
      "9 12\n",
      "\n",
      "Subtraction (A - B):\n",
      "-4 -4\n",
      "1 -4\n",
      "\n",
      "Multiplication (A x B):\n",
      "13 22\n",
      "41 62\n",
      "\n",
      "Transpose of Matrix A:\n",
      "1 5\n",
      "2 4\n"
     ]
    }
   ],
   "source": [
    "# Function to get a matrix from user input\n",
    "def get_matrix(name):\n",
    "    rows = int(input(f\"Enter number of rows for Matrix {name}: \"))\n",
    "    cols = int(input(f\"Enter number of columns for Matrix {name}: \"))\n",
    "    print(f\"Enter elements for Matrix {name} row by row:\")\n",
    "    matrix = []\n",
    "    for i in range(rows):\n",
    "        row = list(map(int, input(f\"Row {i + 1}: \").split()))\n",
    "        while len(row) != cols:\n",
    "            print(f\"Please enter exactly {cols} integers.\")\n",
    "            row = list(map(int, input(f\"Row {i + 1}: \").split()))\n",
    "        matrix.append(row)\n",
    "    return matrix, rows, cols\n",
    "\n",
    "# Function to print a matrix\n",
    "def print_matrix(matrix):\n",
    "    for row in matrix:\n",
    "        print(' '.join(map(str, row)))\n",
    "\n",
    "# Matrix addition\n",
    "def add_matrices(A, B):\n",
    "    return [[A[i][j] + B[i][j] for j in range(len(A[0]))] for i in range(len(A))]\n",
    "\n",
    "# Matrix subtraction\n",
    "def subtract_matrices(A, B):\n",
    "    return [[A[i][j] - B[i][j] for j in range(len(A[0]))] for i in range(len(A))]\n",
    "\n",
    "# Matrix multiplication\n",
    "def multiply_matrices(A, B):\n",
    "    result = []\n",
    "    for i in range(len(A)):\n",
    "        row = []\n",
    "        for j in range(len(B[0])):\n",
    "            val = sum(A[i][k] * B[k][j] for k in range(len(B)))\n",
    "            row.append(val)\n",
    "        result.append(row)\n",
    "    return result\n",
    "\n",
    "# Transpose of matrix\n",
    "def transpose_matrix(matrix):\n",
    "    return [[matrix[j][i] for j in range(len(matrix))] for i in range(len(matrix[0]))]\n",
    "\n",
    "# Main Program\n",
    "A, rows_A, cols_A = get_matrix(\"A\")\n",
    "B, rows_B, cols_B = get_matrix(\"B\")\n",
    "\n",
    "print(\"\\nMatrix A:\")\n",
    "print_matrix(A)\n",
    "\n",
    "print(\"\\nMatrix B:\")\n",
    "print_matrix(B)\n",
    "\n",
    "if rows_A == rows_B and cols_A == cols_B:\n",
    "    print(\"\\nAddition (A + B):\")\n",
    "    print_matrix(add_matrices(A, B))\n",
    "\n",
    "    print(\"\\nSubtraction (A - B):\")\n",
    "    print_matrix(subtract_matrices(A, B))\n",
    "else:\n",
    "    print(\"\\nAddition and subtraction not possible (dimension mismatch).\")\n",
    "\n",
    "if cols_A == rows_B:\n",
    "    print(\"\\nMultiplication (A x B):\")\n",
    "    print_matrix(multiply_matrices(A, B))\n",
    "else:\n",
    "    print(\"\\nMultiplication not possible (A columns != B rows).\")\n",
    "\n",
    "print(\"\\nTranspose of Matrix A:\")\n",
    "print_matrix(transpose_matrix(A))\n"
   ]
  },
  {
   "cell_type": "code",
   "execution_count": null,
   "id": "fbcdabcc-5ed6-4369-96a6-65d1b976b30a",
   "metadata": {},
   "outputs": [],
   "source": []
  }
 ],
 "metadata": {
  "kernelspec": {
   "display_name": "Python 3 (ipykernel)",
   "language": "python",
   "name": "python3"
  },
  "language_info": {
   "codemirror_mode": {
    "name": "ipython",
    "version": 3
   },
   "file_extension": ".py",
   "mimetype": "text/x-python",
   "name": "python",
   "nbconvert_exporter": "python",
   "pygments_lexer": "ipython3",
   "version": "3.12.4"
  }
 },
 "nbformat": 4,
 "nbformat_minor": 5
}
