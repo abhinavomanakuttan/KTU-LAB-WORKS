{
 "cells": [
  {
   "cell_type": "markdown",
   "id": "b4b645ef-0e07-44d3-bcf8-2e7ac870e6fe",
   "metadata": {},
   "source": [
    "# 2nd lab "
   ]
  },
  {
   "cell_type": "markdown",
   "id": "a3c5796c-0317-4001-a638-53a905e24505",
   "metadata": {},
   "source": [
    "## Exp No 2: "
   ]
  },
  {
   "cell_type": "code",
   "execution_count": 11,
   "id": "37913a89-2779-4173-8cf3-87b5734e06df",
   "metadata": {},
   "outputs": [
    {
     "name": "stdin",
     "output_type": "stream",
     "text": [
      "Enter numbers separated by spaces:  9 8 5 2 1 4 6 3\n"
     ]
    },
    {
     "name": "stdout",
     "output_type": "stream",
     "text": [
      "Original array: [9, 8, 5, 2, 1, 4, 6, 3]\n",
      "Sorted array: [1, 2, 3, 4, 5, 6, 8, 9]\n"
     ]
    }
   ],
   "source": [
    "def bubble_sort(arr):\n",
    "    n = len(arr)\n",
    "    for i in range(n - 1):\n",
    "        for j in range(n - i - 1):\n",
    "            if arr[j] > arr[j + 1]:\n",
    "                arr[j], arr[j + 1] = arr[j + 1], arr[j]  # Swap elements\n",
    "\n",
    "# User input\n",
    "array = list(map(int, input(\"Enter numbers separated by spaces: \").split()))\n",
    "print(\"Original array:\", array)\n",
    "bubble_sort(array)\n",
    "print(\"Sorted array:\", array)\n",
    "\n"
   ]
  },
  {
   "cell_type": "markdown",
   "id": "d5436a5d-29ac-4b48-8480-f7aa23a1481d",
   "metadata": {},
   "source": [
    "## Exp N0:2.b"
   ]
  },
  {
   "cell_type": "code",
   "execution_count": 10,
   "id": "1ea4179d-c01d-4833-b846-0a48223ceb18",
   "metadata": {},
   "outputs": [
    {
     "name": "stdin",
     "output_type": "stream",
     "text": [
      "Enter numbers separated by spaces:  1 1 1 1 1 1 2 2 2 2 2 \n",
      "Enter the number to find:  1\n"
     ]
    },
    {
     "name": "stdout",
     "output_type": "stream",
     "text": [
      "The number 1 occurs 6 times in the array.\n"
     ]
    }
   ],
   "source": [
    "def find_occurrence(arr, num):\n",
    "    count = 0\n",
    "    for element in arr:\n",
    "        if element == num:\n",
    "            count += 1\n",
    "    return count\n",
    "\n",
    "# User input\n",
    "array = list(map(int, input(\"Enter numbers separated by spaces: \").split()))\n",
    "number_to_find = int(input(\"Enter the number to find: \"))\n",
    "occurrence = find_occurrence(array, number_to_find)\n",
    "print(f\"The number {number_to_find} occurs {occurrence} times in the array.\")\n"
   ]
  },
  {
   "cell_type": "markdown",
   "id": "4e5f2a68-60ea-4f25-b9ab-b59f5a50e840",
   "metadata": {},
   "source": [
    "## Exp No 3.a\n"
   ]
  },
  {
   "cell_type": "code",
   "execution_count": 12,
   "id": "76681741-c77f-4a4a-923b-32ae4839a7b5",
   "metadata": {},
   "outputs": [
    {
     "name": "stdin",
     "output_type": "stream",
     "text": [
      "Enter a string:  Abhinav\n"
     ]
    },
    {
     "name": "stdout",
     "output_type": "stream",
     "text": [
      "You entered: Abhinav\n",
      "\n",
      "Using range():\n",
      "Index 0 -> Character 'A'\n",
      "Index 1 -> Character 'b'\n",
      "Index 2 -> Character 'h'\n",
      "Index 3 -> Character 'i'\n",
      "Index 4 -> Character 'n'\n",
      "Index 5 -> Character 'a'\n",
      "Index 6 -> Character 'v'\n",
      "\n",
      "Using enumerate():\n",
      "Index 0 -> Character 'A'\n",
      "Index 1 -> Character 'b'\n",
      "Index 2 -> Character 'h'\n",
      "Index 3 -> Character 'i'\n",
      "Index 4 -> Character 'n'\n",
      "Index 5 -> Character 'a'\n",
      "Index 6 -> Character 'v'\n"
     ]
    }
   ],
   "source": [
    "# Program to read and print a string, demonstrating range() and enumerate()\n",
    "\n",
    "# Read a string from the user\n",
    "user_string = input(\"Enter a string: \")\n",
    "\n",
    "# Print the string\n",
    "print(\"You entered:\", user_string)\n",
    "\n",
    "# Demonstrate the use of range()\n",
    "print(\"\\nUsing range():\")\n",
    "for i in range(len(user_string)):\n",
    "    print(f\"Index {i} -> Character '{user_string[i]}'\")\n",
    "\n",
    "# Demonstrate the use of enumerate()\n",
    "print(\"\\nUsing enumerate():\")\n",
    "for index, char in enumerate(user_string):\n",
    "    print(f\"Index {index} -> Character '{char}'\")\n"
   ]
  },
  {
   "cell_type": "markdown",
   "id": "a58bdee0-95b6-494d-9d6e-907c38a2098f",
   "metadata": {},
   "source": [
    "## Exp NO: 3.b"
   ]
  },
  {
   "cell_type": "code",
   "execution_count": 13,
   "id": "b34d437a-f93f-4813-890c-bc412026c044",
   "metadata": {},
   "outputs": [
    {
     "name": "stdin",
     "output_type": "stream",
     "text": [
      "Enter a string:  abhinav\n"
     ]
    },
    {
     "name": "stdout",
     "output_type": "stream",
     "text": [
      "\n",
      "Original string: abhinav\n",
      "\n",
      "String Operations:\n",
      "Uppercase: ABHINAV\n",
      "Lowercase: abhinav\n",
      "Swapped case: ABHINAV\n",
      "Capitalized: Abhinav\n",
      "Title case: Abhinav\n"
     ]
    }
   ],
   "source": [
    "# i. Create a string\n",
    "original_string = input(\"Enter a string: \")\n",
    "\n",
    "# ii. Convert to uppercase\n",
    "uppercase_string = original_string.upper()\n",
    "\n",
    "# iii. Convert to lowercase\n",
    "lowercase_string = original_string.lower()\n",
    "\n",
    "# iv. Swapping case\n",
    "swapped_case_string = original_string.swapcase()\n",
    "\n",
    "# v. String capitalization\n",
    "capitalized_string = original_string.capitalize()\n",
    "\n",
    "# vi. Print the original string\n",
    "print(\"\\nOriginal string:\", original_string)\n",
    "\n",
    "# vii. Convert string to title case\n",
    "title_case_string = original_string.title()\n",
    "\n",
    "# Print results of each operation\n",
    "print(\"\\nString Operations:\")\n",
    "print(\"Uppercase:\", uppercase_string)\n",
    "print(\"Lowercase:\", lowercase_string)\n",
    "print(\"Swapped case:\", swapped_case_string)\n",
    "print(\"Capitalized:\", capitalized_string)\n",
    "print(\"Title case:\", title_case_string)\n"
   ]
  },
  {
   "cell_type": "markdown",
   "id": "ada87dc3-edc0-4403-9a86-e757f2d45001",
   "metadata": {},
   "source": [
    "## Exp N0:4 "
   ]
  },
  {
   "cell_type": "code",
   "execution_count": 14,
   "id": "86619051-2f13-4151-9ae7-43b0643a450f",
   "metadata": {},
   "outputs": [
    {
     "name": "stdin",
     "output_type": "stream",
     "text": [
      "Enter numbers separated by spaces:  1 2 3 \n"
     ]
    },
    {
     "name": "stdout",
     "output_type": "stream",
     "text": [
      "\n",
      "Traverse using len():\n",
      "Index 0 -> 1\n",
      "Index 1 -> 2\n",
      "Index 2 -> 3\n",
      "\n",
      "Traverse using range():\n",
      "Index 0 -> 1\n",
      "Index 1 -> 2\n",
      "Index 2 -> 3\n",
      "\n",
      "Traverse using enumerate():\n",
      "Index 0 -> 1\n",
      "Index 1 -> 2\n",
      "Index 2 -> 3\n"
     ]
    }
   ],
   "source": [
    "# a. Implementing different list traversals\n",
    "\n",
    "# i. Create a list\n",
    "my_list = list(map(int, input(\"Enter numbers separated by spaces: \").split()))\n",
    "\n",
    "# ii. Traverse and print list using len()\n",
    "print(\"\\nTraverse using len():\")\n",
    "for i in range(len(my_list)):\n",
    "    print(f\"Index {i} -> {my_list[i]}\")\n",
    "\n",
    "# iii. Traverse and print list using range()\n",
    "print(\"\\nTraverse using range():\")\n",
    "for i in range(len(my_list)):\n",
    "    print(f\"Index {i} -> {my_list[i]}\")\n",
    "\n",
    "# iv. Traverse and print list using enumerate()\n",
    "print(\"\\nTraverse using enumerate():\")\n",
    "for index, value in enumerate(my_list):\n",
    "    print(f\"Index {index} -> {value}\")\n"
   ]
  },
  {
   "cell_type": "markdown",
   "id": "d16bf34e-3dad-465e-bf47-497d9767328d",
   "metadata": {},
   "source": [
    "## Exp N0:4 b"
   ]
  },
  {
   "cell_type": "code",
   "execution_count": 15,
   "id": "a8aa3fd6-7b88-4b5c-84eb-6c480d48f2f7",
   "metadata": {},
   "outputs": [
    {
     "name": "stdin",
     "output_type": "stream",
     "text": [
      "Enter numbers separated by spaces:  9 8 7 4 5 62 3 1 2\n"
     ]
    },
    {
     "name": "stdout",
     "output_type": "stream",
     "text": [
      "\n",
      "Original List: [9, 8, 7, 4, 5, 62, 3, 1, 2]\n"
     ]
    },
    {
     "name": "stdin",
     "output_type": "stream",
     "text": [
      "Enter a number to append:  6\n"
     ]
    },
    {
     "name": "stdout",
     "output_type": "stream",
     "text": [
      "List after append(): [9, 8, 7, 4, 5, 62, 3, 1, 2, 6]\n"
     ]
    },
    {
     "name": "stdin",
     "output_type": "stream",
     "text": [
      "Enter the position to insert the element:  8\n",
      "Enter a number to insert:  12\n"
     ]
    },
    {
     "name": "stdout",
     "output_type": "stream",
     "text": [
      "List after insert(): [9, 8, 7, 4, 5, 62, 3, 1, 12, 2, 6]\n"
     ]
    },
    {
     "name": "stdin",
     "output_type": "stream",
     "text": [
      "Enter a number to remove:  6\n"
     ]
    },
    {
     "name": "stdout",
     "output_type": "stream",
     "text": [
      "List after remove(): [9, 8, 7, 4, 5, 62, 3, 1, 12, 2]\n",
      "List sorted in descending order: [62, 12, 9, 8, 7, 5, 4, 3, 2, 1]\n"
     ]
    }
   ],
   "source": [
    "# b. Implementing different list operations\n",
    "\n",
    "# i. Create a list\n",
    "my_list = list(map(int, input(\"Enter numbers separated by spaces: \").split()))\n",
    "print(\"\\nOriginal List:\", my_list)\n",
    "\n",
    "# ii. Add elements using append()\n",
    "new_element = int(input(\"Enter a number to append: \"))\n",
    "my_list.append(new_element)\n",
    "print(\"List after append():\", my_list)\n",
    "\n",
    "# iii. Add elements using insert()\n",
    "position = int(input(\"Enter the position to insert the element: \"))\n",
    "new_element = int(input(\"Enter a number to insert: \"))\n",
    "my_list.insert(position, new_element)\n",
    "print(\"List after insert():\", my_list)\n",
    "\n",
    "# iv. Remove elements using remove()\n",
    "element_to_remove = int(input(\"Enter a number to remove: \"))\n",
    "if element_to_remove in my_list:\n",
    "    my_list.remove(element_to_remove)\n",
    "    print(\"List after remove():\", my_list)\n",
    "else:\n",
    "    print(f\"Element {element_to_remove} not found in the list.\")\n",
    "\n",
    "# v. Sort elements in descending order using sort() and reverse()\n",
    "my_list.sort(reverse=True)\n",
    "print(\"List sorted in descending order:\", my_list)\n"
   ]
  },
  {
   "cell_type": "code",
   "execution_count": null,
   "id": "748a0e8c-5c71-486d-a47e-6625ebd3109a",
   "metadata": {},
   "outputs": [],
   "source": []
  }
 ],
 "metadata": {
  "kernelspec": {
   "display_name": "Python 3 (ipykernel)",
   "language": "python",
   "name": "python3"
  },
  "language_info": {
   "codemirror_mode": {
    "name": "ipython",
    "version": 3
   },
   "file_extension": ".py",
   "mimetype": "text/x-python",
   "name": "python",
   "nbconvert_exporter": "python",
   "pygments_lexer": "ipython3",
   "version": "3.12.4"
  }
 },
 "nbformat": 4,
 "nbformat_minor": 5
}
