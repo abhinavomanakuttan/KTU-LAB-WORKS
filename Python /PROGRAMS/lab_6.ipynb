{
 "cells": [
  {
   "cell_type": "markdown",
   "id": "ecb642f3-85c9-4a9a-a3c6-def00a15ce5e",
   "metadata": {},
   "source": [
    "# Exp No: 10   Implement Chi-square test for goodness of fit. "
   ]
  },
  {
   "cell_type": "markdown",
   "id": "1e9a9014-0941-4415-952f-c6bb9fb9bca6",
   "metadata": {},
   "source": [
    "<h3>a. A random sample of 395 people were surveyed and each person was asked to report\n",
    "the highest education level they obtained. The data that resulted from the survey is\n",
    "summarized in the following table. Are gender and education level dependent at 5%\n",
    "level of significance? \n",
    "</h3>\n",
    "\n",
    "|            | High School | Bachelors | Masters | Ph.D. | Total |\n",
    "|------------|------------|-----------|---------|------|-------|\n",
    "| **Female** | 60         | 54        | 46      | 41   | 201   |\n",
    "| **Male**   | 40         | 44        | 53      | 57   | 194   |\n",
    "| **Total**  | 100        | 98        | 99      | 98   | 395   |\n"
   ]
  },
  {
   "cell_type": "code",
   "execution_count": 2,
   "id": "9170fe31-bcbc-4860-95e7-09186bea4ef3",
   "metadata": {},
   "outputs": [
    {
     "name": "stdout",
     "output_type": "stream",
     "text": [
      "Chi-Square Statistic: 8.006066246262538\n",
      "P-value: 0.04588650089174722\n",
      "Degrees of Freedom: 3\n",
      "Expected Frequencies:\n",
      " [[50.88607595 49.86835443 50.37721519 49.86835443]\n",
      " [49.11392405 48.13164557 48.62278481 48.13164557]]\n",
      "Reject H0: Gender and education level are dependent.\n"
     ]
    }
   ],
   "source": [
    "import numpy as np\n",
    "from scipy.stats import chi2_contingency\n",
    "\n",
    "# Observed Frequency Table\n",
    "observed = np.array([[60, 54, 46, 41],\n",
    "                     [40, 44, 53, 57]])\n",
    "\n",
    "# Perform Chi-Square Test\n",
    "chi2_stat, p_value, dof, expected = chi2_contingency(observed)\n",
    "\n",
    "# Critical Value at 5% significance level for df = 3\n",
    "critical_value = 7.815\n",
    "\n",
    "# Print Results\n",
    "print(f\"Chi-Square Statistic: {chi2_stat}\")\n",
    "print(f\"P-value: {p_value}\")\n",
    "print(f\"Degrees of Freedom: {dof}\")\n",
    "print(\"Expected Frequencies:\\n\", expected)\n",
    "\n",
    "# Decision Rule\n",
    "if chi2_stat > critical_value:\n",
    "    print(\"Reject H0: Gender and education level are dependent.\")\n",
    "else:\n",
    "    print(\"Fail to reject H0: Gender and education level are independent.\")\n"
   ]
  },
  {
   "cell_type": "markdown",
   "id": "5e31c5c3-6bb3-4407-922c-6d49645195b3",
   "metadata": {},
   "source": [
    "<br>\n",
    "\n",
    "## Exp.No:11 Perform t-test for difference of means. \n",
    "\n",
    "<h3>\n",
    "Suppose a sample of 16 light trucks is randomly selected off the assembly line. The trucks are driven 1000 miles and the fuel mileage (MPG) of each truck is recorded.It is found that the mean MPG is 22 with a SD equal to 3. The previous model of the light truck got 20 MPG. Conduct a t- test of the null hypothesis at p = 0.05\n",
    "\n",
    "</h3>\n",
    "\n",
    "<br>\n"
   ]
  },
  {
   "cell_type": "code",
   "execution_count": 4,
   "id": "04b5ec69-fdbc-4009-936a-201d81e3d864",
   "metadata": {},
   "outputs": [
    {
     "name": "stdout",
     "output_type": "stream",
     "text": [
      "t-statistic: 2.6667\n",
      "p-value: 0.0176\n",
      "Reject H0: There is a significant difference in MPG.\n"
     ]
    }
   ],
   "source": [
    "import scipy.stats as stats\n",
    "\n",
    "# Given data\n",
    "sample_mean = 22\n",
    "mean = 20\n",
    "sample_std = 3\n",
    "n = 16\n",
    "alpha = 0.05\n",
    "\n",
    "# Compute t-statistic\n",
    "t_stat = (sample_mean - mean) / (sample_std / (n ** 0.5))\n",
    "\n",
    "# Compute p-value\n",
    "p_value = stats.t.sf(abs(t_stat), df=n-1) * 2  # Two-tailed test\n",
    "\n",
    "# Print results\n",
    "print(f\"t-statistic: {t_stat:.4f}\")\n",
    "print(f\"p-value: {p_value:.4f}\")\n",
    "\n",
    "# Decision\n",
    "if p_value < alpha:\n",
    "    print(\"Reject H0: There is a significant difference in MPG.\")\n",
    "else:\n",
    "    print(\"Fail to Reject H0: No significant difference in MPG.\")\n"
   ]
  },
  {
   "cell_type": "code",
   "execution_count": null,
   "id": "92dc193a-01b1-40c4-a8ab-90d8f388f9b6",
   "metadata": {},
   "outputs": [],
   "source": []
  }
 ],
 "metadata": {
  "kernelspec": {
   "display_name": "Python 3 (ipykernel)",
   "language": "python",
   "name": "python3"
  },
  "language_info": {
   "codemirror_mode": {
    "name": "ipython",
    "version": 3
   },
   "file_extension": ".py",
   "mimetype": "text/x-python",
   "name": "python",
   "nbconvert_exporter": "python",
   "pygments_lexer": "ipython3",
   "version": "3.12.4"
  }
 },
 "nbformat": 4,
 "nbformat_minor": 5
}
