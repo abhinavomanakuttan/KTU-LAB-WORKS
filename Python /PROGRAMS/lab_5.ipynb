{
 "cells": [
  {
   "cell_type": "markdown",
   "id": "582c36da-9f5a-46c1-b237-dd73831239f3",
   "metadata": {},
   "source": [
    "# lab 5"
   ]
  },
  {
   "cell_type": "markdown",
   "id": "89eb7a96-4732-4475-b58a-eebb6f0739bd",
   "metadata": {},
   "source": [
    "## Exp No :9 "
   ]
  },
  {
   "cell_type": "markdown",
   "id": "1a0a53ea-67a6-4a94-a7cd-fb77823871ad",
   "metadata": {},
   "source": [
    "<h3>Heading- Problems based on measures of central tendency and measures of dispersion using raw data and grouped data</h3>"
   ]
  },
  {
   "cell_type": "markdown",
   "id": "c97b5f76-f2dc-4973-8a8a-097b32d73361",
   "metadata": {},
   "source": [
    "<h4>a.\tTable contains population and murder rates (in units of murders per 100,000\n",
    "people per year) for different states. Compute the mean, median and variance for the population.\n",
    "</h4>\n",
    "\n",
    " ```\n",
    "State        | Population     | Murder\n",
    "------------|---------------|--------\n",
    "Alabama      | 4,779,736      | 5.7\n",
    "Alaska       | 710,231        | 5.6\n",
    "Arizona      | 6,392,017      | 4.7\n",
    "Arkansas     | 2,915,918      | 5.6\n",
    "California   | 37,253,956     | 4.4\n",
    "Colorado     | 5,029,196      | 2.8\n",
    "Connecticut  | 3,574,097      | 2.4\n",
    "Delaware     | 897,934        | 5.8\n",
    "```\n",
    "\n",
    "\n"
   ]
  },
  {
   "cell_type": "code",
   "execution_count": 1,
   "id": "16191c7b-1aee-43ad-a7c1-11ec802e7089",
   "metadata": {},
   "outputs": [
    {
     "name": "stdout",
     "output_type": "stream",
     "text": [
      "Mean Population: 7694135.625\n",
      "Median Population: 4176916.5\n",
      "Variance of Population: 128230435522129.22\n"
     ]
    }
   ],
   "source": [
    "import numpy as np\n",
    "\n",
    "# Population data\n",
    "populations = np.array([4779736, 710231, 6392017, 2915918, 37253956, 5029196, 3574097, 897934])\n",
    "\n",
    "# Compute statistics\n",
    "mean_population = np.mean(populations)\n",
    "median_population = np.median(populations)\n",
    "variance_population = np.var(populations, ddof=0)  # Population variance\n",
    "\n",
    "# Print results\n",
    "print(f\"Mean Population: {mean_population}\")\n",
    "print(f\"Median Population: {median_population}\")\n",
    "print(f\"Variance of Population: {variance_population}\")\n"
   ]
  },
  {
   "cell_type": "markdown",
   "id": "175f63f1-e375-4816-b96e-c0c4ef3948bd",
   "metadata": {},
   "source": [
    "<h3> OR </h3>"
   ]
  },
  {
   "cell_type": "code",
   "execution_count": 2,
   "id": "b1ba47af-15fe-4b39-b8f7-0163aab5666c",
   "metadata": {},
   "outputs": [
    {
     "name": "stdout",
     "output_type": "stream",
     "text": [
      "Mean Population: 7694135.625\n",
      "Median Population: 4176916.5\n",
      "Variance of Population: 128230435522129.23\n"
     ]
    }
   ],
   "source": [
    "# Population data\n",
    "populations = [4779736, 710231, 6392017, 2915918, 37253956, 5029196, 3574097, 897934]\n",
    "\n",
    "# Step 1: Calculate Mean\n",
    "sum_population = sum(populations)\n",
    "n = len(populations)\n",
    "mean_population = sum_population / n\n",
    "\n",
    "# Step 2: Calculate Median\n",
    "sorted_populations = sorted(populations)\n",
    "if n % 2 == 0:\n",
    "    median_population = (sorted_populations[n//2 - 1] + sorted_populations[n//2]) / 2\n",
    "else:\n",
    "    median_population = sorted_populations[n//2]\n",
    "\n",
    "# Step 3: Calculate Variance\n",
    "sum_squared_diff = sum((x - mean_population) ** 2 for x in populations)\n",
    "variance_population = sum_squared_diff / n\n",
    "\n",
    "# Print results\n",
    "print(f\"Mean Population: {mean_population}\")\n",
    "print(f\"Median Population: {median_population}\")\n",
    "print(f\"Variance of Population: {variance_population}\")\n"
   ]
  },
  {
   "cell_type": "markdown",
   "id": "d5e78ca1-7c05-450b-9c70-5adfc315b8f4",
   "metadata": {},
   "source": [
    "\n",
    "<br>\n",
    "\n",
    "<h2> b.\tCalculate the S.D. and coefficient of variation (C.V.) for the following table:</h2>\n",
    "\n",
    "\n",
    "```\n",
    "Class        | 0-10  | 10-20 | 20-30 | 30-40 | 40-50 | 50-60 | 60-70 | 70-80\n",
    "------------|-------|-------|-------|-------|-------|-------|-------|-------\n",
    "Frequency   | 5     | 10    | 20    | 40    | 30    | 20    | 10    | 5\n",
    "```\n",
    "\n"
   ]
  },
  {
   "cell_type": "code",
   "execution_count": 5,
   "id": "491e5e98-4d76-4061-85d3-2954f35b7d89",
   "metadata": {},
   "outputs": [
    {
     "name": "stdout",
     "output_type": "stream",
     "text": [
      "Mean: 39.642857142857146\n",
      "Standard Deviation: 15.91992077715905\n",
      "Coefficient of Variation (C.V.): 40.15835871715796%\n"
     ]
    }
   ],
   "source": [
    "import numpy as np\n",
    "\n",
    "# Given class intervals and frequencies\n",
    "class_intervals = np.array([(0,10), (10,20), (20,30), (30,40), (40,50), (50,60), (60,70), (70,80)])\n",
    "frequencies = np.array([5, 10, 20, 40, 30, 20, 10, 5])\n",
    "\n",
    "# Step 1: Compute Midpoints\n",
    "midpoints = np.mean(class_intervals, axis=1)\n",
    "\n",
    "# Step 2: Compute Mean\n",
    "mean = np.sum(frequencies * midpoints) / np.sum(frequencies)\n",
    "\n",
    "# Step 3: Compute Variance\n",
    "variance = np.sum(frequencies * (midpoints - mean) ** 2) / np.sum(frequencies)\n",
    "\n",
    "# Step 4: Compute Standard Deviation\n",
    "std_dev = np.sqrt(variance)\n",
    "\n",
    "# Step 5: Compute Coefficient of Variation (C.V.)\n",
    "cv = (std_dev / mean) * 100\n",
    "\n",
    "# Print results\n",
    "print(f\"Mean: {mean}\")\n",
    "print(f\"Standard Deviation: {std_dev}\")\n",
    "print(f\"Coefficient of Variation (C.V.): {cv}%\")\n"
   ]
  },
  {
   "cell_type": "markdown",
   "id": "653a25bf-5984-4994-b5d1-6bb89d17079d",
   "metadata": {},
   "source": [
    "<h3>OR</h3>"
   ]
  },
  {
   "cell_type": "code",
   "execution_count": null,
   "id": "c0b3c31b-ac55-4070-9d09-77ca9af97ad1",
   "metadata": {},
   "outputs": [],
   "source": [
    "# Given class intervals and frequencies\n",
    "class_intervals = [(0,10), (10,20), (20,30), (30,40), (40,50), (50,60), (60,70), (70,80)]\n",
    "frequencies = [5, 10, 20, 40, 30, 20, 10, 5]\n",
    "\n",
    "# Step 1: Compute Midpoints\n",
    "midpoints = [(c[0] + c[1]) / 2 for c in class_intervals]\n",
    "\n",
    "# Step 2: Compute Mean\n",
    "sum_f_x = sum(f * x for f, x in zip(frequencies, midpoints))\n",
    "total_f = sum(frequencies)\n",
    "mean = sum_f_x / total_f\n",
    "\n",
    "# Step 3: Compute Variance\n",
    "sum_f_x2 = sum(f * (x - mean) ** 2 for f, x in zip(frequencies, midpoints))\n",
    "variance = sum_f_x2 / total_f\n",
    "\n",
    "# Step 4: Compute Standard Deviation\n",
    "std_dev = variance ** 0.5\n",
    "\n",
    "# Step 5: Compute Coefficient of Variation (C.V.)\n",
    "cv = (std_dev / mean) * 100\n",
    "\n",
    "# Print results\n",
    "print(f\"Mean: {mean}\")\n",
    "print(f\"Standard Deviation: {std_dev}\")\n",
    "print(f\"Coefficient of Variation (C.V.): {cv}%\")"
   ]
  }
 ],
 "metadata": {
  "kernelspec": {
   "display_name": "Python 3 (ipykernel)",
   "language": "python",
   "name": "python3"
  },
  "language_info": {
   "codemirror_mode": {
    "name": "ipython",
    "version": 3
   },
   "file_extension": ".py",
   "mimetype": "text/x-python",
   "name": "python",
   "nbconvert_exporter": "python",
   "pygments_lexer": "ipython3",
   "version": "3.12.4"
  }
 },
 "nbformat": 4,
 "nbformat_minor": 5
}
