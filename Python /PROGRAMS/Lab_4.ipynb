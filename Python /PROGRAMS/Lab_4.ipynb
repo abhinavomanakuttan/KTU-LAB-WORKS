{
 "cells": [
  {
   "cell_type": "markdown",
   "id": "097e83fd-0c8e-4ccb-927f-abe097581435",
   "metadata": {},
   "source": [
    "# LAB 4"
   ]
  },
  {
   "cell_type": "markdown",
   "id": "98463774-a89c-4c53-8bf7-1711b14b07d9",
   "metadata": {},
   "source": [
    "# Exp.No:7 "
   ]
  },
  {
   "cell_type": "markdown",
   "id": "b1e00e51-456e-457d-b611-d4a54b7b84d2",
   "metadata": {},
   "source": [
    "## a.\tWrite a program to read a tuple of numbers and print even tuple and odd tuple "
   ]
  },
  {
   "cell_type": "code",
   "execution_count": 1,
   "id": "b2d5549b-ae26-4acb-a3be-c16d8754d84e",
   "metadata": {},
   "outputs": [
    {
     "name": "stdin",
     "output_type": "stream",
     "text": [
      "Enter numbers separated by space:  1 2 5 3 4 8 6 5\n"
     ]
    },
    {
     "name": "stdout",
     "output_type": "stream",
     "text": [
      "Even Tuple: (2, 4, 8, 6)\n",
      "Odd Tuple: (1, 5, 3, 5)\n"
     ]
    }
   ],
   "source": [
    "numbers = tuple(map(int, input(\"Enter numbers separated by space: \").split())) # fro resiving the tuple \n",
    "\n",
    "even_tuple = tuple(num for num in numbers if num % 2 == 0)\n",
    "odd_tuple = tuple(num for num in numbers if num % 2 != 0)\n",
    "\n",
    "print(\"Even Tuple:\", even_tuple)\n",
    "print(\"Odd Tuple:\", odd_tuple)\n"
   ]
  },
  {
   "cell_type": "markdown",
   "id": "3256a853-e3fa-40ed-80a3-7f36e78c3453",
   "metadata": {},
   "source": [
    "## b.\tCreate a dictionary with a set of book title and corresponding stock. Write a program to update the stock and to add or delete books.\n",
    "    1.\tCreate a dictionary\n",
    "    2.\tAccess any values\n",
    "    3.\tAdd or update values\n",
    "    4.\tRemove key value pair\n",
    "    5.\tCheck whether the key exists or not\n",
    "    6.\tGet all keys \n",
    "    7.\tFind length of the dictionary\n",
    "    8.\tMerge dictionary\n",
    "    9.\tPrint updated dictionary\n",
    "\n"
   ]
  },
  {
   "cell_type": "code",
   "execution_count": 2,
   "id": "46ecf70e-e9eb-4b7a-9883-73ac7d027cba",
   "metadata": {},
   "outputs": [
    {
     "name": "stdout",
     "output_type": "stream",
     "text": [
      "Stock of 'Python Basics': 10\n",
      "Machine Learning Guide is available in stock.\n",
      "Available books: ['Python Basics', 'Machine Learning Guide', 'Deep Learning Essentials']\n",
      "Total number of books: 3\n",
      "Updated Book Stock: {'Python Basics': 12, 'Machine Learning Guide': 8, 'Deep Learning Essentials': 7, 'AI for Beginners': 4, 'Cloud Computing': 6}\n"
     ]
    }
   ],
   "source": [
    "# Step 1: Create a dictionary\n",
    "book_stock = {\n",
    "    \"Python Basics\": 10,\n",
    "    \"Data Science Handbook\": 5,\n",
    "    \"Machine Learning Guide\": 8\n",
    "}\n",
    "\n",
    "# Step 2: Access any value\n",
    "book_to_check = input(\"\\nEnter book title to check stock: \").strip()\n",
    "if book_to_check in book_stock:\n",
    "    print(f\"Stock of '{book_to_check}':\", book_stock[book_to_check])\n",
    "else:\n",
    "    print(f\"'{book_to_check}' not found in stock.\")\n",
    "\n",
    "# Step 3: Add or update values\n",
    "book_to_add = input(\"\\nEnter book title to add/update: \").strip()\n",
    "while True:\n",
    "    try:\n",
    "        stock_to_add = int(input(f\"Enter stock for '{book_to_add}': \"))\n",
    "        break\n",
    "    except ValueError:\n",
    "        print(\"Invalid input! Please enter a numeric value.\")\n",
    "\n",
    "book_stock[book_to_add] = stock_to_add\n",
    "\n",
    "# Step 4: Remove key-value pair\n",
    "book_to_remove = input(\"\\nEnter book title to remove: \").strip()\n",
    "if book_to_remove in book_stock:\n",
    "    confirm = input(f\"Are you sure you want to remove '{book_to_remove}'? (yes/no): \").strip().lower()\n",
    "    if confirm == \"yes\":\n",
    "        del book_stock[book_to_remove]\n",
    "        print(f\"'{book_to_remove}' has been removed.\")\n",
    "    else:\n",
    "        print(\"Operation cancelled.\")\n",
    "else:\n",
    "    print(f\"'{book_to_remove}' not found in stock.\")\n",
    "\n",
    "\n",
    "# Step 5: Check whether a key exists\n",
    "book_check = input(\"\\nEnter book title to check existence: \").strip()\n",
    "if book_check in book_stock:\n",
    "    print(f\"'{book_check}' is available in stock.\")\n",
    "else:\n",
    "    print(f\"'{book_check}' is not in stock.\")\n",
    "\n",
    "# Step 6: Get all keys\n",
    "print(\"\\nAvailable books:\", list(book_stock.keys()))\n",
    "\n",
    "# Step 7: Find length of dictionary\n",
    "print(\"Total number of books:\", len(book_stock))\n",
    "\n",
    "# Step 8: Merge dictionary\n",
    "new_books = {}\n",
    "m = int(input(\"\\nEnter number of new books to merge: \"))\n",
    "for _ in range(m):\n",
    "    title = input(\"Enter new book title: \").strip()\n",
    "    while True:\n",
    "        try:\n",
    "            stock = int(input(f\"Enter stock for '{title}': \"))\n",
    "            break\n",
    "        except ValueError:\n",
    "            print(\"Invalid input! Please enter a numeric value.\")\n",
    "\n",
    "    new_books[title] = stock\n",
    "\n",
    "book_stock.update(new_books)\n",
    "\n",
    "# Step 9: Print updated dictionary\n",
    "print(\"\\nUpdated Book Stock:\", book_stock)\n"
   ]
  },
  {
   "cell_type": "markdown",
   "id": "b586f875-0daf-4cf0-849a-6493703b3842",
   "metadata": {},
   "source": [
    "## or "
   ]
  },
  {
   "cell_type": "code",
   "execution_count": null,
   "id": "6b4e91da-fe34-47f5-b562-212c36e6eb89",
   "metadata": {},
   "outputs": [],
   "source": [
    "# Step 1: Create a dictionary\n",
    "book_stock = {\n",
    "    \"Python Basics\": 10,\n",
    "    \"Data Science Handbook\": 5,\n",
    "    \"Machine Learning Guide\": 8\n",
    "}\n",
    "\n",
    "# Step 2: Access values\n",
    "print(\"Stock of 'Python Basics':\", book_stock[\"Python Basics\"])\n",
    "\n",
    "# Step 3: Add or update values\n",
    "book_stock[\"Deep Learning Essentials\"] = 7  # Adding a new book\n",
    "book_stock[\"Python Basics\"] = 12  # Updating stock\n",
    "\n",
    "# Step 4: Remove key-value pair\n",
    "del book_stock[\"Data Science Handbook\"]\n",
    "\n",
    "# Step 5: Check if a key exists\n",
    "book = \"Machine Learning Guide\"\n",
    "if book in book_stock:\n",
    "    print(f\"{book} is available in stock.\")\n",
    "\n",
    "# Step 6: Get all keys\n",
    "print(\"Available books:\", list(book_stock.keys()))\n",
    "\n",
    "# Step 7: Find length of dictionary\n",
    "print(\"Total number of books:\", len(book_stock))\n",
    "\n",
    "# Step 8: Merge dictionary\n",
    "new_books = {\"AI for Beginners\": 4, \"Cloud Computing\": 6}\n",
    "book_stock.update(new_books)\n",
    "\n",
    "# Step 9: Print updated dictionary\n",
    "print(\"Updated Book Stock:\", book_stock)\n",
    " "
   ]
  },
  {
   "cell_type": "markdown",
   "id": "492b043e-3dce-44c2-9763-5519d26cf1e7",
   "metadata": {},
   "source": [
    "# Exp.No:8 "
   ]
  },
  {
   "cell_type": "markdown",
   "id": "9b824ac8-a4f5-4a86-8fcd-96e0290b2929",
   "metadata": {},
   "source": [
    "## a .\tA set of numbers are stored in a file. Write a program to print the prime numbers among them"
   ]
  },
  {
   "cell_type": "code",
   "execution_count": null,
   "id": "f3108b02-dc1d-413f-ae45-d9818ee9026c",
   "metadata": {},
   "outputs": [],
   "source": [
    "with open(\"numbers.txt\", \"r\") as file:\n",
    "    numbers = map(int, file.read().split())\n",
    "\n",
    "primes = []\n",
    "for num in numbers:\n",
    "    if num > 1:\n",
    "        is_prime = True\n",
    "        for i in range(2, int(num ** 0.5) + 1):\n",
    "            if num % i == 0:\n",
    "                is_prime = False\n",
    "                break\n",
    "        if is_prime:\n",
    "            primes.append(num)\n",
    "\n",
    "print(\"Prime Numbers:\", primes)\n"
   ]
  },
  {
   "cell_type": "markdown",
   "id": "e0da9e35-d951-419a-a54e-169d8d4b79f7",
   "metadata": {},
   "source": [
    "## b.\tWrite a program to count the number of words, sentences, upper case letters,lowercase letters and special symbols in a text stored in file\n"
   ]
  },
  {
   "cell_type": "code",
   "execution_count": null,
   "id": "00e51d68-d38d-4f5b-b79c-54663b9fc97d",
   "metadata": {},
   "outputs": [],
   "source": [
    "import string\n",
    "\n",
    "with open(\"textfile.txt\", \"r\") as file:\n",
    "    text = file.read()\n",
    "\n",
    "word_count = len(text.split())\n",
    "sentence_count = text.count('.') + text.count('!') + text.count('?')\n",
    "uppercase_count = sum(1 for char in text if char.isupper())\n",
    "lowercase_count = sum(1 for char in text if char.islower())\n",
    "special_symbol_count = sum(1 for char in text if char in string.punctuation)\n",
    "\n",
    "print(\"Word Count:\", word_count)\n",
    "print(\"Sentence Count:\", sentence_count)\n",
    "print(\"Uppercase Letters:\", uppercase_count)\n",
    "print(\"Lowercase Letters:\", lowercase_count)\n",
    "print(\"Special Symbols:\", special_symbol_count)\n"
   ]
  }
 ],
 "metadata": {
  "kernelspec": {
   "display_name": "Python 3 (ipykernel)",
   "language": "python",
   "name": "python3"
  },
  "language_info": {
   "codemirror_mode": {
    "name": "ipython",
    "version": 3
   },
   "file_extension": ".py",
   "mimetype": "text/x-python",
   "name": "python",
   "nbconvert_exporter": "python",
   "pygments_lexer": "ipython3",
   "version": "3.12.4"
  }
 },
 "nbformat": 4,
 "nbformat_minor": 5
}
